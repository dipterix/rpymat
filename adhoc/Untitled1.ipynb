{
 "cells": [
  {
   "cell_type": "code",
   "execution_count": 2,
   "id": "e71b73d0",
   "metadata": {},
   "outputs": [
    {
     "name": "stderr",
     "output_type": "stream",
     "text": [
      "\n",
      "Listening on http://127.0.0.1:7719\n",
      "\n"
     ]
    }
   ],
   "source": [
    "rave::start_rave(launch.browser = FALSE)"
   ]
  },
  {
   "cell_type": "code",
   "execution_count": 8,
   "id": "001b5009",
   "metadata": {},
   "outputs": [],
   "source": [
    "tf <- tempfile()"
   ]
  },
  {
   "cell_type": "code",
   "execution_count": 9,
   "id": "ea14602e",
   "metadata": {},
   "outputs": [
    {
     "name": "stdout",
     "output_type": "stream",
     "text": [
      "Generating 3D Viewer... \n"
     ]
    },
    {
     "data": {
      "text/plain": [
       "<!---------- Instructions to Embed 3D viewer in your own websites --------->\n",
       "\n",
       "<!-- Step 1: In HTML header (<head>...</head>), add the following lines -->\n",
       "<link href=\"lib/threejs-0.101.1/css/dat.gui.css\" rel=\"stylesheet\" /> <link href=\"lib/dipterixThreeBrain-1.0.1/dipterix.css\" rel=\"stylesheet\" /> <script src=\"lib/htmlwidgets-1.5.4/htmlwidgets.js\"></script> <script src=\"lib/dipterixThreeBrain-1.0.1/main.js\"></script> <script src=\"lib/threejs_brain-binding-0.2.4.9001/threejs_brain.js\"></script>\n",
       "\n",
       "<!-- Step 2: In HTML body tags where you want to insert widget into, \n",
       "\tcopy-paste the following lines. Please change the highlighted parts. \n",
       "\tYour \"YOUR-WIDGET-ID\" Must be unique across the whole document  -->\n",
       "<div id=\"htmlwidget_container\">\n",
       "\t<div id=\"YOUR-WIDGET-ID\" style=\"width:100%;height:100vh;\" class=\"threejs_brain html-widget\">\n",
       "\t</div>\n",
       "</div>\n",
       "\n",
       "<!-- Step 3: At the end of HTML (before </html>), insert the data script\n",
       "\tMake sure \"YOUR-WIDGET-ID\" matches with the previous step. -->\n",
       "<script type=\"application/json\" data-for=\"YOUR-WIDGET-ID\">{\"x\":{\"data_filename\":\"config_607f1c514fc8e9303276c3ce82bf2eee.json\",\"settings\":{\"side_camera\":true,\"side_canvas_zoom\":1,\"side_canvas_width\":250,\"side_canvas_shift\":[0,0],\"color_maps\":{\"[Subject]\":{\"name\":\"[Subject]\",\"time_range\":[0,1],\"value_range\":[-1,1],\"value_names\":\"DemoSubject\",\"value_type\":\"discrete\",\"color_keys\":[1,2,3,4,5,6,7,8,9,10,11,12,13,14,15,16],\"color_vals\":[\"0x000000\",\"0x000000\",\"0x000000\",\"0x000000\",\"0x000000\",\"0x000000\",\"0x000000\",\"0x000000\",\"0x000000\",\"0x000000\",\"0x000000\",\"0x000000\",\"0x000000\",\"0x000000\",\"0x000000\",\"0x000000\"],\"color_levels\":1,\"hard_range\":[],\"alias\":[]}},\"default_colormap\":\"[Subject]\",\"hide_controls\":false,\"control_center\":[0,0,0],\"camera_pos\":[500,0,0],\"font_magnification\":1,\"start_zoom\":1,\"show_legend\":true,\"render_timestamp\":true,\"control_presets\":[\"subject2\",\"surface_type2\",\"hemisphere_material\",\"surface_color\",\"map_template\",\"electrodes\",\"voxel\",\"animation\",\"display_highlights\"],\"cache_folder\":\"lib/threebrain_data-0/\",\"lib_path\":\"lib/\",\"default_controllers\":[],\"debug\":false,\"background\":\"#FFFFFF\",\"token\":null,\"coords\":null,\"show_inactive_electrodes\":true,\"side_display\":true,\"control_display\":true,\"custom_javascript\":null},\"force_render\":true},\"evals\":[],\"jsHooks\":[]}</script><script type=\"application/htmlwidget-sizing\" data-for=\"htmlwidget-a54e3c9e57e339f533b9\">{\"viewer\":{\"width\":\"100%\",\"height\":\"100vh\",\"padding\":\"0px\",\"fill\":true},\"browser\":{\"width\":\"100%\",\"height\":\"100vh\",\"padding\":\"0px\",\"fill\":false}}</script>\n",
       "<!---------- End of Instructions --------->"
      ]
     },
     "metadata": {},
     "output_type": "display_data"
    }
   ],
   "source": [
    "threeBrain::save_brain(wg, directory = tf)"
   ]
  },
  {
   "cell_type": "code",
   "execution_count": 15,
   "id": "1a63db02",
   "metadata": {},
   "outputs": [
    {
     "data": {
      "text/html": [
       "<iframe width = \"100%\" height = \"500px\" src=\"file:///private/var/folders/d1/_9fw182j7_d8tbx7xpttfyfr0000gn/T/RtmpTOlDW7/file167da75600d2b/index.html\"></iframe>"
      ]
     },
     "metadata": {},
     "output_type": "display_data"
    }
   ],
   "source": [
    "library(IRdisplay)\n",
    "\n",
    "display_html('<iframe width = \"100%\" height = \"500px\" src=\"file:///private/var/folders/d1/_9fw182j7_d8tbx7xpttfyfr0000gn/T/RtmpTOlDW7/file167da75600d2b/index.html\"></iframe>')\n"
   ]
  },
  {
   "cell_type": "code",
   "execution_count": 13,
   "id": "51827937",
   "metadata": {},
   "outputs": [
    {
     "data": {
      "text/html": [
       "<style>\n",
       ".list-inline {list-style: none; margin:0; padding: 0}\n",
       ".list-inline>li {display: inline-block}\n",
       ".list-inline>li:not(:last-child)::after {content: \"\\00b7\"; padding: 0 .5ex}\n",
       "</style>\n",
       "<ol class=list-inline><li>'index.html'</li><li>'launch.zip'</li><li>'lib'</li><li>'linux.sh'</li><li>'mac.command'</li><li>'README.txt'</li><li>'simple_server.py'</li><li>'windows.bat'</li></ol>\n"
      ],
      "text/latex": [
       "\\begin{enumerate*}\n",
       "\\item 'index.html'\n",
       "\\item 'launch.zip'\n",
       "\\item 'lib'\n",
       "\\item 'linux.sh'\n",
       "\\item 'mac.command'\n",
       "\\item 'README.txt'\n",
       "\\item 'simple\\_server.py'\n",
       "\\item 'windows.bat'\n",
       "\\end{enumerate*}\n"
      ],
      "text/markdown": [
       "1. 'index.html'\n",
       "2. 'launch.zip'\n",
       "3. 'lib'\n",
       "4. 'linux.sh'\n",
       "5. 'mac.command'\n",
       "6. 'README.txt'\n",
       "7. 'simple_server.py'\n",
       "8. 'windows.bat'\n",
       "\n",
       "\n"
      ],
      "text/plain": [
       "[1] \"index.html\"       \"launch.zip\"       \"lib\"              \"linux.sh\"        \n",
       "[5] \"mac.command\"      \"README.txt\"       \"simple_server.py\" \"windows.bat\"     "
      ]
     },
     "metadata": {},
     "output_type": "display_data"
    }
   ],
   "source": [
    "list.files(tf)"
   ]
  }
 ],
 "metadata": {
  "kernelspec": {
   "display_name": "R",
   "language": "R",
   "name": "ir"
  },
  "language_info": {
   "codemirror_mode": "r",
   "file_extension": ".r",
   "mimetype": "text/x-r-source",
   "name": "R",
   "pygments_lexer": "r",
   "version": "4.1.2"
  }
 },
 "nbformat": 4,
 "nbformat_minor": 5
}
